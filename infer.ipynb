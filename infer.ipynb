{
 "cells": [
  {
   "cell_type": "code",
   "execution_count": null,
   "metadata": {},
   "outputs": [],
   "source": [
    "from models.audioae import AudioAE\n",
    "import torch\n",
    "import torchaudio\n",
    "import IPython.display as ipd\n",
    "        \n",
    "model = AudioAE(n_channels=32, padding=\"same\")\n",
    "state_dict = torch.load(\"last.ckpt\", map_location='cpu')[\"state_dict\"]\n",
    "model.load_state_dict(state_dict, strict=False)\n",
    "model.eval()#.to(\"cuda\")"
   ]
  },
  {
   "cell_type": "code",
   "execution_count": null,
   "metadata": {},
   "outputs": [],
   "source": [
    "x, sr = torchaudio.load(\"audio_example.wav\")\n",
    "# x = x.to(\"cuda\")"
   ]
  },
  {
   "cell_type": "code",
   "execution_count": null,
   "metadata": {},
   "outputs": [],
   "source": [
    "hidden = model.encoder(x.unsqueeze(0))\n",
    "audio_b = model.decoder(hidden).squeeze()"
   ]
  },
  {
   "cell_type": "code",
   "execution_count": null,
   "metadata": {},
   "outputs": [],
   "source": [
    "ipd.display(ipd.Audio(audio_b.data.cpu().float().numpy(), rate=24000, normalize=True))"
   ]
  }
 ],
 "metadata": {
  "kernelspec": {
   "display_name": ".tts",
   "language": "python",
   "name": "python3"
  },
  "language_info": {
   "codemirror_mode": {
    "name": "ipython",
    "version": 3
   },
   "file_extension": ".py",
   "mimetype": "text/x-python",
   "name": "python",
   "nbconvert_exporter": "python",
   "pygments_lexer": "ipython3",
   "version": "3.12.6"
  }
 },
 "nbformat": 4,
 "nbformat_minor": 2
}
